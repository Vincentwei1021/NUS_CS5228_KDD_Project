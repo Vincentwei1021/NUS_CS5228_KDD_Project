{
 "cells": [
  {
   "cell_type": "code",
   "execution_count": 1,
   "metadata": {
    "ExecuteTime": {
     "end_time": "2020-04-02T07:39:21.224652Z",
     "start_time": "2020-04-02T07:39:20.805482Z"
    }
   },
   "outputs": [],
   "source": [
    "import torch"
   ]
  },
  {
   "cell_type": "code",
   "execution_count": 8,
   "metadata": {
    "ExecuteTime": {
     "end_time": "2020-04-02T07:58:36.876007Z",
     "start_time": "2020-04-02T07:58:36.873693Z"
    }
   },
   "outputs": [],
   "source": [
    "text_multi=\"[CLS] a longer battery life would have been great - but it meets it 's spec quite easily . [SEP]\""
   ]
  },
  {
   "cell_type": "code",
   "execution_count": 9,
   "metadata": {
    "ExecuteTime": {
     "end_time": "2020-04-02T07:58:38.368014Z",
     "start_time": "2020-04-02T07:58:38.365212Z"
    }
   },
   "outputs": [
    {
     "data": {
      "text/plain": [
       "\"[CLS] a longer battery life would have been great - but it meets it 's spec quite easily . [SEP]\""
      ]
     },
     "execution_count": 9,
     "metadata": {},
     "output_type": "execute_result"
    }
   ],
   "source": [
    "text_multi"
   ]
  },
  {
   "cell_type": "code",
   "execution_count": 12,
   "metadata": {
    "ExecuteTime": {
     "end_time": "2020-04-02T07:58:57.278596Z",
     "start_time": "2020-04-02T07:58:57.275548Z"
    }
   },
   "outputs": [
    {
     "data": {
      "text/plain": [
       "71"
      ]
     },
     "execution_count": 12,
     "metadata": {},
     "output_type": "execute_result"
    }
   ],
   "source": [
    "text_multi.find(aspect)"
   ]
  },
  {
   "cell_type": "code",
   "execution_count": 11,
   "metadata": {
    "ExecuteTime": {
     "end_time": "2020-04-02T07:58:50.330703Z",
     "start_time": "2020-04-02T07:58:50.328554Z"
    }
   },
   "outputs": [],
   "source": [
    "aspect='spec'"
   ]
  },
  {
   "cell_type": "code",
   "execution_count": 17,
   "metadata": {
    "ExecuteTime": {
     "end_time": "2020-04-02T07:59:54.951561Z",
     "start_time": "2020-04-02T07:59:54.949342Z"
    }
   },
   "outputs": [],
   "source": [
    "aspect_b_now='[aspect_0b]'\n",
    "aspect_e_now='[aspect_0e]'\n"
   ]
  },
  {
   "cell_type": "code",
   "execution_count": 7,
   "metadata": {
    "ExecuteTime": {
     "end_time": "2020-04-02T07:58:24.539050Z",
     "start_time": "2020-04-02T07:58:24.536157Z"
    }
   },
   "outputs": [],
   "source": [
    "def insert(original, new, pos):\n",
    "# '''Inserts new inside original at pos.'''\n",
    "    return original[:pos] + new + original[pos:]"
   ]
  },
  {
   "cell_type": "code",
   "execution_count": 14,
   "metadata": {
    "ExecuteTime": {
     "end_time": "2020-04-02T07:59:25.615730Z",
     "start_time": "2020-04-02T07:59:25.612564Z"
    }
   },
   "outputs": [],
   "source": [
    "text_multi=insert(text_multi,' '+aspect_b_now+' ',text_multi.find(aspect))"
   ]
  },
  {
   "cell_type": "code",
   "execution_count": 15,
   "metadata": {
    "ExecuteTime": {
     "end_time": "2020-04-02T07:59:28.347029Z",
     "start_time": "2020-04-02T07:59:28.343941Z"
    }
   },
   "outputs": [
    {
     "data": {
      "text/plain": [
       "\"[CLS] a longer battery life would have been great - but it meets it 's  [aspect_0b] spec quite easily . [SEP]\""
      ]
     },
     "execution_count": 15,
     "metadata": {},
     "output_type": "execute_result"
    }
   ],
   "source": [
    "text_multi"
   ]
  },
  {
   "cell_type": "code",
   "execution_count": 18,
   "metadata": {
    "ExecuteTime": {
     "end_time": "2020-04-02T07:59:57.195729Z",
     "start_time": "2020-04-02T07:59:57.192598Z"
    }
   },
   "outputs": [],
   "source": [
    "text_multi=insert(text_multi,' '+aspect_e_now+' ',text_multi.find(aspect)+len(aspect))"
   ]
  },
  {
   "cell_type": "code",
   "execution_count": 19,
   "metadata": {
    "ExecuteTime": {
     "end_time": "2020-04-02T07:59:59.689359Z",
     "start_time": "2020-04-02T07:59:59.686340Z"
    }
   },
   "outputs": [
    {
     "data": {
      "text/plain": [
       "\"[CLS] a longer battery life would have been great - but it meets it 's  [aspec [aspect_0e] t_0b] spec quite easily . [SEP]\""
      ]
     },
     "execution_count": 19,
     "metadata": {},
     "output_type": "execute_result"
    }
   ],
   "source": [
    "text_multi"
   ]
  },
  {
   "cell_type": "code",
   "execution_count": null,
   "metadata": {},
   "outputs": [],
   "source": []
  }
 ],
 "metadata": {
  "kernelspec": {
   "display_name": "Python 3",
   "language": "python",
   "name": "python3"
  },
  "language_info": {
   "codemirror_mode": {
    "name": "ipython",
    "version": 3
   },
   "file_extension": ".py",
   "mimetype": "text/x-python",
   "name": "python",
   "nbconvert_exporter": "python",
   "pygments_lexer": "ipython3",
   "version": "3.7.3"
  }
 },
 "nbformat": 4,
 "nbformat_minor": 4
}
